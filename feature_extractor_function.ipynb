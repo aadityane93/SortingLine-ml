{
  "nbformat": 4,
  "nbformat_minor": 0,
  "metadata": {
    "colab": {
      "provenance": [],
      "authorship_tag": "ABX9TyNXNBAOrrbebWblR0c9GngY",
      "include_colab_link": true
    },
    "kernelspec": {
      "name": "python3",
      "display_name": "Python 3"
    },
    "language_info": {
      "name": "python"
    }
  },
  "cells": [
    {
      "cell_type": "markdown",
      "metadata": {
        "id": "view-in-github",
        "colab_type": "text"
      },
      "source": [
        "<a href=\"https://colab.research.google.com/github/aadityane93/SortingLine-ml/blob/main/feature_extractor_function.ipynb\" target=\"_parent\"><img src=\"https://colab.research.google.com/assets/colab-badge.svg\" alt=\"Open In Colab\"/></a>"
      ]
    },
    {
      "cell_type": "code",
      "execution_count": 12,
      "metadata": {
        "colab": {
          "base_uri": "https://localhost:8080/"
        },
        "id": "AVJSiaQ8m4g_",
        "outputId": "2eec6dbc-89fc-43ac-8702-04e169fdbfda"
      },
      "outputs": [
        {
          "output_type": "stream",
          "name": "stdout",
          "text": [
            "Requirement already satisfied: tsfresh in /usr/local/lib/python3.11/dist-packages (0.21.0)\n",
            "Requirement already satisfied: requests>=2.9.1 in /usr/local/lib/python3.11/dist-packages (from tsfresh) (2.32.3)\n",
            "Requirement already satisfied: numpy>=1.15.1 in /usr/local/lib/python3.11/dist-packages (from tsfresh) (2.0.2)\n",
            "Requirement already satisfied: pandas>=0.25.0 in /usr/local/lib/python3.11/dist-packages (from tsfresh) (2.2.2)\n",
            "Requirement already satisfied: statsmodels>=0.13 in /usr/local/lib/python3.11/dist-packages (from tsfresh) (0.14.4)\n",
            "Requirement already satisfied: patsy>=0.4.1 in /usr/local/lib/python3.11/dist-packages (from tsfresh) (1.0.1)\n",
            "Requirement already satisfied: pywavelets in /usr/local/lib/python3.11/dist-packages (from tsfresh) (1.8.0)\n",
            "Requirement already satisfied: scikit-learn>=0.22.0 in /usr/local/lib/python3.11/dist-packages (from tsfresh) (1.6.1)\n",
            "Requirement already satisfied: tqdm>=4.10.0 in /usr/local/lib/python3.11/dist-packages (from tsfresh) (4.67.1)\n",
            "Requirement already satisfied: stumpy>=1.7.2 in /usr/local/lib/python3.11/dist-packages (from tsfresh) (1.13.0)\n",
            "Requirement already satisfied: cloudpickle in /usr/local/lib/python3.11/dist-packages (from tsfresh) (3.1.1)\n",
            "Requirement already satisfied: scipy>=1.14.0 in /usr/local/lib/python3.11/dist-packages (from tsfresh) (1.14.1)\n",
            "Requirement already satisfied: python-dateutil>=2.8.2 in /usr/local/lib/python3.11/dist-packages (from pandas>=0.25.0->tsfresh) (2.8.2)\n",
            "Requirement already satisfied: pytz>=2020.1 in /usr/local/lib/python3.11/dist-packages (from pandas>=0.25.0->tsfresh) (2025.1)\n",
            "Requirement already satisfied: tzdata>=2022.7 in /usr/local/lib/python3.11/dist-packages (from pandas>=0.25.0->tsfresh) (2025.1)\n",
            "Requirement already satisfied: charset-normalizer<4,>=2 in /usr/local/lib/python3.11/dist-packages (from requests>=2.9.1->tsfresh) (3.4.1)\n",
            "Requirement already satisfied: idna<4,>=2.5 in /usr/local/lib/python3.11/dist-packages (from requests>=2.9.1->tsfresh) (3.10)\n",
            "Requirement already satisfied: urllib3<3,>=1.21.1 in /usr/local/lib/python3.11/dist-packages (from requests>=2.9.1->tsfresh) (2.3.0)\n",
            "Requirement already satisfied: certifi>=2017.4.17 in /usr/local/lib/python3.11/dist-packages (from requests>=2.9.1->tsfresh) (2025.1.31)\n",
            "Requirement already satisfied: joblib>=1.2.0 in /usr/local/lib/python3.11/dist-packages (from scikit-learn>=0.22.0->tsfresh) (1.4.2)\n",
            "Requirement already satisfied: threadpoolctl>=3.1.0 in /usr/local/lib/python3.11/dist-packages (from scikit-learn>=0.22.0->tsfresh) (3.6.0)\n",
            "Requirement already satisfied: packaging>=21.3 in /usr/local/lib/python3.11/dist-packages (from statsmodels>=0.13->tsfresh) (24.2)\n",
            "Requirement already satisfied: numba>=0.57.1 in /usr/local/lib/python3.11/dist-packages (from stumpy>=1.7.2->tsfresh) (0.60.0)\n",
            "Requirement already satisfied: llvmlite<0.44,>=0.43.0dev0 in /usr/local/lib/python3.11/dist-packages (from numba>=0.57.1->stumpy>=1.7.2->tsfresh) (0.43.0)\n",
            "Requirement already satisfied: six>=1.5 in /usr/local/lib/python3.11/dist-packages (from python-dateutil>=2.8.2->pandas>=0.25.0->tsfresh) (1.17.0)\n"
          ]
        }
      ],
      "source": [
        "!pip install tsfresh\n",
        "# getml --upgrade\n",
        "from google.colab import files\n",
        "import numpy as np\n",
        "import pandas as pd\n",
        "from tsfresh import extract_features, select_features\n",
        "from tsfresh.utilities.dataframe_functions import impute\n",
        "from tsfresh.feature_selection.relevance import calculate_relevance_table\n",
        "from sklearn.model_selection import train_test_split, KFold, cross_val_predict, cross_val_score\n",
        "from sklearn.ensemble import RandomForestClassifier\n",
        "from sklearn.metrics import accuracy_score, classification_report, confusion_matrix, f1_score, precision_score\n",
        "import xgboost as xgb"
      ]
    },
    {
      "cell_type": "code",
      "source": [
        "from pydrive.auth import GoogleAuth\n",
        "from pydrive.drive import GoogleDrive\n",
        "from google.colab import auth\n",
        "from oauth2client.client import GoogleCredentials\n",
        "import os\n",
        "\n",
        "# Authenticate and create the PyDrive client.\n",
        "auth.authenticate_user()\n",
        "gauth = GoogleAuth()\n",
        "gauth.credentials = GoogleCredentials.get_application_default()\n",
        "drive = GoogleDrive(gauth)\n",
        "folder_id = '1ps_Bh93KQRJ4WbnilORmKd1BaWUXtmt1' #100 files\n",
        "\n",
        "folder_list = drive.ListFile({'q': \"'{}' in parents and mimeType='application/vnd.google-apps.folder' and trashed=false\".format(folder_id)}).GetList()\n",
        "\n",
        "\n",
        "for folder in folder_list:\n",
        "    folder_title = folder['title']\n",
        "    print(f\"Processing folder: {folder_title}\")\n",
        "    file_list = drive.ListFile({'q': \"'{}' in parents and trashed=false\".format(folder['id'])}).GetList()\n",
        "\n",
        "    for index, file in enumerate(file_list):\n",
        "        file_title = file['title']\n",
        "        print(f\"Downloading {file_title}\")\n",
        "        file.GetContentFile(file_title)"
      ],
      "metadata": {
        "colab": {
          "base_uri": "https://localhost:8080/"
        },
        "id": "hAnBwrbYnDne",
        "outputId": "c5d02ced-e81e-4a70-f269-7dbd38a3ca25"
      },
      "execution_count": null,
      "outputs": [
        {
          "output_type": "stream",
          "name": "stdout",
          "text": [
            "Processing folder: 400hz\n",
            "Downloading 400hz-test-feature-50percent-100files.csv\n",
            "Downloading 400hz-train-feature-50percent-100files.csv\n",
            "Downloading 400hz-test-target-50percent-100files.csv\n",
            "Downloading 400hz-train-target-50percent-100files.csv\n",
            "Downloading 400hz-test-feature-50percent-10files.csv\n",
            "Downloading 400hz-train-feature-50percent-10files.csv\n",
            "Downloading 400hz-train-target-50percent-10files.csv\n",
            "Downloading 400hz-test-target-50percent-10files.csv\n",
            "Downloading 400hz-test-feature-20percent-1000files.csv\n"
          ]
        }
      ]
    },
    {
      "cell_type": "code",
      "source": [
        "hzs=[100, 400, 800]\n",
        "percents=[20, 50]\n",
        "files_count=[10, 100, 1000]"
      ],
      "metadata": {
        "id": "Lhod2-sgnciF"
      },
      "execution_count": null,
      "outputs": []
    },
    {
      "cell_type": "code",
      "source": [
        "def file_downloader(file_name,file_var):\n",
        "    file_var.to_csv(file_name, sep=',')\n",
        "    print (f'Downloading {file_name}')\n",
        "    files.download(file_name)"
      ],
      "metadata": {
        "id": "gYhYezrfBYDh"
      },
      "execution_count": null,
      "outputs": []
    },
    {
      "cell_type": "code",
      "source": [
        "def read_file(filename):\n",
        "  return pd.read_csv(filename, sep=',')\n",
        "def file_reader(hz,percent,files_count):\n",
        "  train_feature = pd.DataFrame(read_file(f'{hz}hz-train-feature-{percent}percent-{files_count}files.csv'))\n",
        "  test_feature = pd.DataFrame(read_file(f'{hz}hz-test-feature-{percent}percent-{files_count}files.csv'))\n",
        "  train_target = pd.DataFrame(read_file(f'{hz}hz-train-target-{percent}percent-{files_count}files.csv'))\n",
        "  test_target = pd.DataFrame(read_file(f'{hz}hz-test-target-{percent}percent-{files_count}files.csv'))\n",
        "\n",
        "  train_feature = train_feature.drop(columns=['Unnamed: 0', 'Datum', 'P_In(W)','P_Out(W)','Energie_In(Wh)','Energie_Out(Wh)','color'])\n",
        "  test_feature = test_feature.drop(columns=['Unnamed: 0', 'Datum', 'P_In(W)','P_Out(W)','Energie_In(Wh)','Energie_Out(Wh)','color'])\n",
        "  train_target = train_target.drop(columns=['Unnamed: 0'])['color']\n",
        "  test_target = test_target.drop(columns=['Unnamed: 0'])['color']\n",
        "\n",
        "  return train_feature, test_feature, train_target, test_target"
      ],
      "metadata": {
        "id": "tLv2ImBbm_YB"
      },
      "execution_count": null,
      "outputs": []
    },
    {
      "cell_type": "code",
      "source": [
        "for hz in hzs:\n",
        "  for file in files_count:\n",
        "    if file == 10 or file == 100:\n",
        "      percent = 50\n",
        "    else:\n",
        "      percent = 20\n",
        "    print (f'working with -----  hz: {hz}, percent: {percent}, files: {file}')\n",
        "\n",
        "    train_feature, test_feature, train_target, test_target = file_reader(hz,percent,file)\n",
        "\n",
        "    print(\"Extracting features from train part\")\n",
        "    extracted_features_train =  extract_features(\n",
        "        train_feature,\n",
        "        column_id=\"fileno\",\n",
        "        column_sort=\"Uhrzeit\",\n",
        "        impute_function=impute\n",
        "    )\n",
        "\n",
        "    print(\"Extracting features from test part\")\n",
        "    extracted_features_test = extract_features(\n",
        "        test_feature,\n",
        "        column_id=\"fileno\",\n",
        "        column_sort=\"Uhrzeit\",\n",
        "        impute_function=impute\n",
        "    )\n",
        "\n",
        "    feature_file_train = f'extracted-{hz}hz-train-feature-{percent}percent-{file}files.csv'\n",
        "    target_file_train = f'extracted-{hz}hz-train-target-{percent}percent-{file}files.csv'\n",
        "    feature_file_test = f'extracted-{hz}hz-test-feature-{percent}percent-{file}files.csv'\n",
        "    target_file_test = f'extracted-{hz}hz-test-target-{percent}percent-{file}files.csv'\n",
        "\n",
        "    file_downloader(feature_file_train,extracted_features_train)\n",
        "    file_downloader(target_file_train,train_target)\n",
        "    file_downloader(feature_file_test,extracted_features_test)\n",
        "    file_downloader(target_file_test,test_target)\n",
        "\n",
        "\n",
        "\n",
        "\n",
        "    # extracted_features_train.to_csv(feature_file_train, sep=',')\n",
        "    # train_target.to_csv(target_file_train, sep=',')\n",
        "    # extracted_features_test.to_csv(feature_file_test, sep=',')\n",
        "    # test_target.to_csv(target_file_test, sep=',')\n",
        "    # files.download(feature_file_train)\n",
        "    # files.download(target_file_train)\n",
        "    # files.download(feature_file_test)\n",
        "    # files.download(target_file_test)"
      ],
      "metadata": {
        "id": "Z1lSNKTGneCy"
      },
      "execution_count": null,
      "outputs": []
    }
  ]
}