{
  "nbformat": 4,
  "nbformat_minor": 0,
  "metadata": {
    "colab": {
      "provenance": [],
      "authorship_tag": "ABX9TyM+taJAOX3Db/EpDQ4t54mC",
      "include_colab_link": true
    },
    "kernelspec": {
      "name": "python3",
      "display_name": "Python 3"
    },
    "language_info": {
      "name": "python"
    }
  },
  "cells": [
    {
      "cell_type": "markdown",
      "metadata": {
        "id": "view-in-github",
        "colab_type": "text"
      },
      "source": [
        "<a href=\"https://colab.research.google.com/github/aadityane93/SortingLine-ml/blob/main/data_to_csv.ipynb\" target=\"_parent\"><img src=\"https://colab.research.google.com/assets/colab-badge.svg\" alt=\"Open In Colab\"/></a>"
      ]
    },
    {
      "cell_type": "markdown",
      "source": [
        "# Importing Python Libraries"
      ],
      "metadata": {
        "id": "fcqZIXsak9Wn"
      }
    },
    {
      "cell_type": "code",
      "execution_count": 1,
      "metadata": {
        "id": "jZzk-ZKuC3Gz"
      },
      "outputs": [],
      "source": [
        "from google.colab import files\n",
        "import numpy as np\n",
        "import pandas as pd"
      ]
    },
    {
      "cell_type": "markdown",
      "source": [
        "# Setting Folder-id"
      ],
      "metadata": {
        "id": "PNN9XN3F8wbg"
      }
    },
    {
      "cell_type": "code",
      "source": [
        "#Setting Folder-id to import Files from Google Drive\n",
        "\n",
        "#100hz\n",
        "# folder_id = '1Goeo7w4XQ_BRZVN8zRX3t11Ollg811VB' #10 files\n",
        "# folder_id = '1BZJfMkmr5uyyL1iZGPQen-B3VTYrJjD0' #100 files\n",
        "# folder_id = '1bxp8LJq3826UeOR44M9ZiDFX61Dp-xSf' #all 1000 files\n",
        "\n",
        "#400hz\n",
        "# folder_id = '1t67fHYWy4DenBOEtt8woJY-WTEtni_lZ' #all 1000 files\n",
        "\n",
        "#800hz\n",
        "folder_id = '1VjStpb6GkRMpyM5kRqFdk7i9ep9aSUni' #10 files"
      ],
      "metadata": {
        "id": "L-tuvaF787aR"
      },
      "execution_count": 2,
      "outputs": []
    },
    {
      "cell_type": "markdown",
      "source": [
        "# Importing files"
      ],
      "metadata": {
        "id": "liU6Zi_ElTkp"
      }
    },
    {
      "cell_type": "code",
      "execution_count": 3,
      "metadata": {
        "colab": {
          "base_uri": "https://localhost:8080/"
        },
        "id": "6MT7Aqf4CcUI",
        "outputId": "7b91ee8b-773f-4ba4-b7c7-491131f660ff"
      },
      "outputs": [
        {
          "output_type": "stream",
          "name": "stderr",
          "text": [
            "WARNING:root:pydrive is deprecated and no longer maintained. We recommend that you migrate your projects to pydrive2, the maintained fork of pydrive\n"
          ]
        },
        {
          "output_type": "stream",
          "name": "stdout",
          "text": [
            "Processing folder: riO\n",
            "Downloading 800Hz_Sort_riO_03052024_10.csv as riO-0\n",
            "Downloading 800Hz_Sort_riO_03052024_9.csv as riO-1\n",
            "Downloading 800Hz_Sort_riO_03052024_8.csv as riO-2\n",
            "Downloading 800Hz_Sort_riO_03052024_7.csv as riO-3\n",
            "Downloading 800Hz_Sort_riO_03052024_6.csv as riO-4\n",
            "Downloading 800Hz_Sort_riO_03052024_5.csv as riO-5\n",
            "Downloading 800Hz_Sort_riO_03052024_4.csv as riO-6\n",
            "Downloading 800Hz_Sort_riO_03052024_3.csv as riO-7\n",
            "Downloading 800Hz_Sort_riO_03052024_2.csv as riO-8\n",
            "Downloading 800Hz_Sort_riO_03052024_1.csv as riO-9\n",
            "Processing folder: wiO\n",
            "Downloading 800Hz_Sort_wiO_03052024_10.csv as wiO-0\n",
            "Downloading 800Hz_Sort_wiO_03052024_9.csv as wiO-1\n",
            "Downloading 800Hz_Sort_wiO_03052024_8.csv as wiO-2\n",
            "Downloading 800Hz_Sort_wiO_03052024_7.csv as wiO-3\n",
            "Downloading 800Hz_Sort_wiO_03052024_6.csv as wiO-4\n",
            "Downloading 800Hz_Sort_wiO_03052024_5.csv as wiO-5\n",
            "Downloading 800Hz_Sort_wiO_03052024_4.csv as wiO-6\n",
            "Downloading 800Hz_Sort_wiO_03052024_3.csv as wiO-7\n",
            "Downloading 800Hz_Sort_wiO_03052024_2.csv as wiO-8\n",
            "Downloading 800Hz_Sort_wiO_03052024_1.csv as wiO-9\n",
            "Processing folder: niO\n",
            "Downloading 800Hz_Sort_niO_03052024_10.csv as niO-0\n",
            "Downloading 800Hz_Sort_niO_03052024_9.csv as niO-1\n",
            "Downloading 800Hz_Sort_niO_03052024_8.csv as niO-2\n",
            "Downloading 800Hz_Sort_niO_03052024_7.csv as niO-3\n",
            "Downloading 800Hz_Sort_niO_03052024_6.csv as niO-4\n",
            "Downloading 800Hz_Sort_niO_03052024_5.csv as niO-5\n",
            "Downloading 800Hz_Sort_niO_03052024_4.csv as niO-6\n",
            "Downloading 800Hz_Sort_niO_03052024_3.csv as niO-7\n",
            "Downloading 800Hz_Sort_niO_03052024_2.csv as niO-8\n",
            "Downloading 800Hz_Sort_niO_03052024_1.csv as niO-9\n",
            "Processing folder: biO\n",
            "Downloading 800Hz_Sort_biO_03052024_10.csv as biO-0\n",
            "Downloading 800Hz_Sort_biO_03052024_9.csv as biO-1\n",
            "Downloading 800Hz_Sort_biO_03052024_8.csv as biO-2\n",
            "Downloading 800Hz_Sort_biO_03052024_7.csv as biO-3\n",
            "Downloading 800Hz_Sort_biO_03052024_6.csv as biO-4\n",
            "Downloading 800Hz_Sort_biO_03052024_5.csv as biO-5\n",
            "Downloading 800Hz_Sort_biO_03052024_4.csv as biO-6\n",
            "Downloading 800Hz_Sort_biO_03052024_3.csv as biO-7\n",
            "Downloading 800Hz_Sort_biO_03052024_2.csv as biO-8\n",
            "Downloading 800Hz_Sort_biO_03052024_1.csv as biO-9\n"
          ]
        }
      ],
      "source": [
        "from pydrive.auth import GoogleAuth\n",
        "from pydrive.drive import GoogleDrive\n",
        "from google.colab import auth\n",
        "from oauth2client.client import GoogleCredentials\n",
        "import os\n",
        "\n",
        "# Authenticate and create the PyDrive client.\n",
        "auth.authenticate_user()\n",
        "gauth = GoogleAuth()\n",
        "gauth.credentials = GoogleCredentials.get_application_default()\n",
        "drive = GoogleDrive(gauth)\n",
        "\n",
        "folder_list = drive.ListFile({'q': \"'{}' in parents and mimeType='application/vnd.google-apps.folder' and trashed=false\".format(folder_id)}).GetList()\n",
        "\n",
        "\n",
        "for folder in folder_list:\n",
        "    folder_title = folder['title']\n",
        "    print(f\"Processing folder: {folder_title}\")\n",
        "    file_list = drive.ListFile({'q': \"'{}' in parents and trashed=false\".format(folder['id'])}).GetList()\n",
        "\n",
        "    for index, file in enumerate(file_list):\n",
        "        file_title = file['title']\n",
        "        new_file_name = f\"{folder_title}-{index}\"\n",
        "        print(f\"Downloading {file_title} as {new_file_name}\")\n",
        "        file.GetContentFile(new_file_name)"
      ]
    },
    {
      "cell_type": "markdown",
      "source": [
        "# Setting No. of Files and Train Percentage"
      ],
      "metadata": {
        "id": "h2q3ITpF2SrX"
      }
    },
    {
      "cell_type": "code",
      "source": [
        "########################################################## INDEX ################################################\n",
        "\n",
        "index = 10   # __No. of files from each color\n",
        "\n",
        "\n",
        "########################################################## Train Percentage ################################################\n",
        "\n",
        "\n",
        "#Train Percentage\n",
        "test_train_split_percentage = 50   # __% percent of data files will be used to train the model"
      ],
      "metadata": {
        "id": "RcNxS5sI2BU-"
      },
      "execution_count": 4,
      "outputs": []
    },
    {
      "cell_type": "markdown",
      "source": [
        "# Info on test/train files"
      ],
      "metadata": {
        "id": "Zzo_J9O13AHu"
      }
    },
    {
      "cell_type": "code",
      "execution_count": 5,
      "metadata": {
        "colab": {
          "base_uri": "https://localhost:8080/"
        },
        "id": "xnOPhXMwEPPM",
        "outputId": "db5fea80-f92a-4bc0-871c-7411db5b1d6e"
      },
      "outputs": [
        {
          "output_type": "stream",
          "name": "stdout",
          "text": [
            "total no. of files for each color  -  10\n",
            "total no. of files  -  40\n",
            " \n",
            "Percent of training data - 50%\n",
            "No. of files for training - 5\n",
            " \n",
            "Percent of testing data - 50%\n",
            "No. of files for testing - 5\n"
          ]
        }
      ],
      "source": [
        "print (\"total no. of files for each color  - \", index)\n",
        "print (\"total no. of files  - \", index*4)\n",
        "print (\" \")\n",
        "\n",
        "#Index to seperarate the read data into train and test dataframes\n",
        "index_train = (test_train_split_percentage/100)* index\n",
        "index_train = int(index_train)\n",
        "index_test_percentage = 100 - test_train_split_percentage\n",
        "index_test = (index_test_percentage/100)* index\n",
        "index_test = int(index_test)\n",
        "\n",
        "print (f\"Percent of training data - {test_train_split_percentage}%\")\n",
        "print (f\"No. of files for training - {index_train}\")\n",
        "print (\" \")\n",
        "print (f\"Percent of testing data - {index_test_percentage}%\")\n",
        "print (f\"No. of files for testing - {index_test}\")"
      ]
    },
    {
      "cell_type": "markdown",
      "source": [
        "# Reading Files and Assigning Dataframe"
      ],
      "metadata": {
        "id": "MtDPWEPk24Pk"
      }
    },
    {
      "cell_type": "code",
      "execution_count": 6,
      "metadata": {
        "colab": {
          "base_uri": "https://localhost:8080/"
        },
        "id": "PCfIeXGAID4W",
        "outputId": "ae281664-a69c-4523-cc48-effe5667920d"
      },
      "outputs": [
        {
          "output_type": "stream",
          "name": "stdout",
          "text": [
            "0\n",
            "1\n",
            "2\n",
            "3\n",
            "4\n",
            "\n",
            "\n",
            "5\n",
            "6\n",
            "7\n",
            "8\n",
            "9\n"
          ]
        }
      ],
      "source": [
        "def read_file(filename):\n",
        "    return pd.read_csv((filename), sep=',')\n",
        "\n",
        "# Dictonaries to read the files\n",
        "white_train = {}\n",
        "white_test = {}\n",
        "blue_train = {}\n",
        "blue_test = {}\n",
        "red_train = {}\n",
        "red_test = {}\n",
        "nio_train = {}\n",
        "nio_test = {}\n",
        "\n",
        "#Assigning df\n",
        "white_train_df = pd.DataFrame()\n",
        "white_test_df = pd.DataFrame()\n",
        "blue_train_df = pd.DataFrame()\n",
        "blue_test_df = pd.DataFrame()\n",
        "red_train_df = pd.DataFrame()\n",
        "red_test_df = pd.DataFrame()\n",
        "nio_train_df = pd.DataFrame()\n",
        "nio_test_df = pd.DataFrame()\n",
        "\n",
        "#Reading files for training\n",
        "for j in range (index_train):\n",
        "  white_train[j] = read_file(f\"wiO-{j}\")\n",
        "  blue_train[j] = read_file(f\"biO-{j}\")\n",
        "  red_train[j] = read_file(f\"riO-{j}\")\n",
        "  nio_train[j] = read_file(f\"niO-{j}\")\n",
        "  print(j)\n",
        "\n",
        "print(\"\\n\")\n",
        "#Reading files for testing\n",
        "for i in range (index_test):\n",
        "  white_test[i] = read_file(f\"wiO-{i+index_train}\")\n",
        "  blue_test[i] = read_file(f\"biO-{i+index_train}\")\n",
        "  red_test[i] = read_file(f\"riO-{i+index_train}\")\n",
        "  nio_test[i] = read_file(f\"niO-{i+index_train}\")\n",
        "  print (i+index_train)"
      ]
    },
    {
      "cell_type": "code",
      "execution_count": 7,
      "metadata": {
        "colab": {
          "base_uri": "https://localhost:8080/"
        },
        "id": "ftU3gMyLKTNd",
        "outputId": "0c9fde76-5841-4e3f-86e3-58bfef193f5f"
      },
      "outputs": [
        {
          "output_type": "execute_result",
          "data": {
            "text/plain": [
              "{0:            Datum                         Uhrzeit  I_In   V_In  P_In(W)  \\\n",
              " 0     2024-05-03  2024-05-03 11:02:08.820138:820  0.25  11.65   2.9125   \n",
              " 1     2024-05-03  2024-05-03 11:02:08.820466:820  0.29  11.70   3.3930   \n",
              " 2     2024-05-03  2024-05-03 11:02:08.824308:824  0.29  11.70   3.3930   \n",
              " 3     2024-05-03  2024-05-03 11:02:08.825066:825  0.29  11.70   3.3930   \n",
              " 4     2024-05-03  2024-05-03 11:02:08.825513:825  0.29  11.70   3.3930   \n",
              " ...          ...                             ...   ...    ...      ...   \n",
              " 4981  2024-05-03  2024-05-03 11:02:15.058224:058  0.46  11.65   5.3590   \n",
              " 4982  2024-05-03  2024-05-03 11:02:15.058369:058  0.46  11.65   5.3590   \n",
              " 4983  2024-05-03  2024-05-03 11:02:15.062070:062  0.50  11.48   5.7400   \n",
              " 4984  2024-05-03  2024-05-03 11:02:15.062231:062  0.50  11.48   5.7400   \n",
              " 4985  2024-05-03  2024-05-03 11:02:15.062375:062  0.50  11.48   5.7400   \n",
              " \n",
              "       I_Out(A)  V_Out(V)  P_Out(W)  Temp(°C)  Energie_In(Wh)  Energie_Out(Wh)  \n",
              " 0         0.25      9.00    2.2500     37.13        0.013738         0.011310  \n",
              " 1         0.25      9.00    2.2500     37.13        0.013738         0.011311  \n",
              " 2         0.25      9.00    2.2500     37.13        0.013742         0.011313  \n",
              " 3         0.25      9.00    2.2500     37.13        0.013743         0.011313  \n",
              " 4         0.25      9.00    2.2500     37.13        0.013743         0.011314  \n",
              " ...        ...       ...       ...       ...             ...              ...  \n",
              " 4981      0.56      8.97    5.0232     37.13        0.019930         0.016174  \n",
              " 4982      0.56      8.97    5.0232     37.13        0.019931         0.016174  \n",
              " 4983      0.48      9.03    4.3344     37.13        0.019936         0.016178  \n",
              " 4984      0.48      9.03    4.3344     37.13        0.019937         0.016179  \n",
              " 4985      0.48      9.03    4.3344     37.13        0.019937         0.016179  \n",
              " \n",
              " [4986 rows x 11 columns],\n",
              " 1:            Datum                         Uhrzeit  I_In   V_In  P_In(W)  \\\n",
              " 0     2024-05-03  2024-05-03 11:01:53.770374:770  0.29  11.56   3.3524   \n",
              " 1     2024-05-03  2024-05-03 11:01:53.770651:770  0.25  11.61   2.9025   \n",
              " 2     2024-05-03  2024-05-03 11:01:53.770954:770  0.27  11.65   3.1455   \n",
              " 3     2024-05-03  2024-05-03 11:01:53.771249:771  0.27  11.65   3.1455   \n",
              " 4     2024-05-03  2024-05-03 11:01:53.771490:771  0.27  11.65   3.1455   \n",
              " ...          ...                             ...   ...    ...      ...   \n",
              " 5295  2024-05-03  2024-05-03 11:02:06.612517:612  0.50  11.74   5.8700   \n",
              " 5296  2024-05-03  2024-05-03 11:02:06.612660:612  0.46  11.70   5.3820   \n",
              " 5297  2024-05-03  2024-05-03 11:02:06.612799:612  0.46  11.70   5.3820   \n",
              " 5298  2024-05-03  2024-05-03 11:02:06.616250:616  0.46  11.70   5.3820   \n",
              " 5299  2024-05-03  2024-05-03 11:02:06.616407:616  0.46  11.70   5.3820   \n",
              " \n",
              "       I_Out(A)  V_Out(V)  P_Out(W)  Temp(°C)  Energie_In(Wh)  Energie_Out(Wh)  \n",
              " 0         0.25      9.00    2.2500     36.88    0.000000e+00     0.000000e+00  \n",
              " 1         0.31      9.00    2.7900     37.13    2.233313e-07     2.146750e-07  \n",
              " 2         0.31      9.00    2.7900     36.88    4.880775e-07     4.495000e-07  \n",
              " 3         0.31      9.03    2.7993     36.88    7.458337e-07     6.788871e-07  \n",
              " 4         0.31      9.00    2.7900     36.88    9.564075e-07     8.656621e-07  \n",
              " ...        ...       ...       ...       ...             ...              ...  \n",
              " 5295      0.52      9.00    4.6800     37.13    1.194924e-02     9.927781e-03  \n",
              " 5296      0.54      9.03    4.8762     36.88    1.194946e-02     9.927975e-03  \n",
              " 5297      0.54      9.03    4.8762     36.88    1.194967e-02     9.928163e-03  \n",
              " 5298      0.54      9.03    4.8762     36.88    1.195482e-02     9.932837e-03  \n",
              " 5299      0.54      9.03    4.8762     36.88    1.195506e-02     9.933050e-03  \n",
              " \n",
              " [5300 rows x 11 columns],\n",
              " 2:            Datum                         Uhrzeit  I_In   V_In  P_In(W)  \\\n",
              " 0     2024-05-03  2024-05-03 11:01:19.136659:136  0.27  11.70   3.1590   \n",
              " 1     2024-05-03  2024-05-03 11:01:19.136878:136  0.33  11.56   3.8148   \n",
              " 2     2024-05-03  2024-05-03 11:01:19.141223:141  0.33  11.56   3.8148   \n",
              " 3     2024-05-03  2024-05-03 11:01:19.141981:141  0.33  11.56   3.8148   \n",
              " 4     2024-05-03  2024-05-03 11:01:19.142677:142  0.33  11.56   3.8148   \n",
              " ...          ...                             ...   ...    ...      ...   \n",
              " 4991  2024-05-03  2024-05-03 11:01:25.387740:387  0.50  11.61   5.8050   \n",
              " 4992  2024-05-03  2024-05-03 11:01:25.391181:391  0.50  11.61   5.8050   \n",
              " 4993  2024-05-03  2024-05-03 11:01:25.391524:391  0.50  11.61   5.8050   \n",
              " 4994  2024-05-03  2024-05-03 11:01:25.391816:391  0.50  11.61   5.8050   \n",
              " 4995  2024-05-03  2024-05-03 11:01:25.392095:392  0.50  11.61   5.8050   \n",
              " \n",
              "       I_Out(A)  V_Out(V)  P_Out(W)  Temp(°C)  Energie_In(Wh)  Energie_Out(Wh)  \n",
              " 0         0.25      9.00    2.2500     36.88        0.290013         0.207013  \n",
              " 1         0.25      9.03    2.2575     36.88        0.290013         0.207013  \n",
              " 2         0.25      9.03    2.2575     36.88        0.290018         0.207016  \n",
              " 3         0.25      9.03    2.2575     36.88        0.290018         0.207016  \n",
              " 4         0.25      9.03    2.2575     36.88        0.290019         0.207017  \n",
              " ...        ...       ...       ...       ...             ...              ...  \n",
              " 4991      0.52      9.00    4.6800     37.13        0.296216         0.211838  \n",
              " 4992      0.52      9.00    4.6800     37.13        0.296221         0.211843  \n",
              " 4993      0.52      9.00    4.6800     37.13        0.296222         0.211843  \n",
              " 4994      0.52      9.00    4.6800     37.13        0.296223         0.211843  \n",
              " 4995      0.52      9.00    4.6800     37.13        0.296223         0.211844  \n",
              " \n",
              " [4996 rows x 11 columns],\n",
              " 3:            Datum                         Uhrzeit  I_In   V_In  P_In(W)  \\\n",
              " 0     2024-05-03  2024-05-03 11:01:08.532499:532  0.31  11.65   3.6115   \n",
              " 1     2024-05-03  2024-05-03 11:01:08.533242:533  0.31  11.65   3.6115   \n",
              " 2     2024-05-03  2024-05-03 11:01:08.536482:536  0.31  11.65   3.6115   \n",
              " 3     2024-05-03  2024-05-03 11:01:08.536777:536  0.31  11.65   3.6115   \n",
              " 4     2024-05-03  2024-05-03 11:01:08.537045:537  0.31  11.70   3.6270   \n",
              " ...          ...                             ...   ...    ...      ...   \n",
              " 4986  2024-05-03  2024-05-03 11:01:14.778720:778  0.43  11.56   4.9708   \n",
              " 4987  2024-05-03  2024-05-03 11:01:14.778941:778  0.43  11.56   4.9708   \n",
              " 4988  2024-05-03  2024-05-03 11:01:14.779085:779  0.43  11.56   4.9708   \n",
              " 4989  2024-05-03  2024-05-03 11:01:14.779225:779  0.43  11.56   4.9708   \n",
              " 4990  2024-05-03  2024-05-03 11:01:14.782510:782  0.43  11.56   4.9708   \n",
              " \n",
              "       I_Out(A)  V_Out(V)  P_Out(W)  Temp(°C)  Energie_In(Wh)  Energie_Out(Wh)  \n",
              " 0         0.31      9.03    2.7993     37.13        0.279973         0.199443  \n",
              " 1         0.31      9.03    2.7993     37.13        0.279974         0.199443  \n",
              " 2         0.31      9.03    2.7993     37.13        0.279977         0.199446  \n",
              " 3         0.31      9.03    2.7993     37.13        0.279978         0.199446  \n",
              " 4         0.31      9.00    2.7900     36.88        0.279978         0.199446  \n",
              " ...        ...       ...       ...       ...             ...              ...  \n",
              " 4986      0.54      9.00    4.8600     36.88        0.286187         0.204287  \n",
              " 4987      0.54      9.00    4.8600     36.88        0.286187         0.204287  \n",
              " 4988      0.54      9.00    4.8600     36.88        0.286187         0.204287  \n",
              " 4989      0.54      9.00    4.8600     36.88        0.286187         0.204287  \n",
              " 4990      0.54      9.00    4.8600     36.88        0.286192         0.204292  \n",
              " \n",
              " [4991 rows x 11 columns],\n",
              " 4:            Datum                         Uhrzeit  I_In   V_In  P_In(W)  \\\n",
              " 0     2024-05-03  2024-05-03 11:00:54.745490:745  0.31  11.74   3.6394   \n",
              " 1     2024-05-03  2024-05-03 11:00:54.745709:745  0.31  11.61   3.5991   \n",
              " 2     2024-05-03  2024-05-03 11:00:54.746200:746  0.31  11.61   3.5991   \n",
              " 3     2024-05-03  2024-05-03 11:00:54.749717:749  0.31  11.61   3.5991   \n",
              " 4     2024-05-03  2024-05-03 11:00:54.749964:749  0.31  11.61   3.5991   \n",
              " ...          ...                             ...   ...    ...      ...   \n",
              " 5110  2024-05-03  2024-05-03 11:01:01.143684:143  0.50  11.61   5.8050   \n",
              " 5111  2024-05-03  2024-05-03 11:01:01.147486:147  0.50  11.61   5.8050   \n",
              " 5112  2024-05-03  2024-05-03 11:01:01.147663:147  0.50  11.61   5.8050   \n",
              " 5113  2024-05-03  2024-05-03 11:01:01.147839:147  0.50  11.61   5.8050   \n",
              " 5114  2024-05-03  2024-05-03 11:01:01.151123:151  0.48  11.61   5.5728   \n",
              " \n",
              "       I_Out(A)  V_Out(V)  P_Out(W)  Temp(°C)  Energie_In(Wh)  Energie_Out(Wh)  \n",
              " 0         0.27      9.00     2.430     37.13        0.266241         0.188786  \n",
              " 1         0.25      9.06     2.265     36.88        0.266241         0.188786  \n",
              " 2         0.25      9.06     2.265     36.88        0.266242         0.188787  \n",
              " 3         0.25      9.06     2.265     36.88        0.266245         0.188789  \n",
              " 4         0.25      9.06     2.265     36.88        0.266245         0.188789  \n",
              " ...        ...       ...       ...       ...             ...              ...  \n",
              " 5110      0.50      9.00     4.500     36.88        0.272557         0.193694  \n",
              " 5111      0.50      9.00     4.500     36.88        0.272563         0.193699  \n",
              " 5112      0.50      9.00     4.500     36.88        0.272563         0.193699  \n",
              " 5113      0.50      9.00     4.500     36.88        0.272563         0.193699  \n",
              " 5114      0.48      9.00     4.320     36.63        0.272568         0.193703  \n",
              " \n",
              " [5115 rows x 11 columns]}"
            ]
          },
          "metadata": {},
          "execution_count": 7
        }
      ],
      "source": [
        "white_train"
      ]
    },
    {
      "cell_type": "markdown",
      "source": [
        "# Target Dataframe"
      ],
      "metadata": {
        "id": "icR_eGoo3UXW"
      }
    },
    {
      "cell_type": "code",
      "execution_count": 8,
      "metadata": {
        "colab": {
          "base_uri": "https://localhost:8080/"
        },
        "id": "SYuIBas9nkHR",
        "outputId": "58e1268e-fe08-4e5d-d8be-27d0fed12b2f"
      },
      "outputs": [
        {
          "output_type": "stream",
          "name": "stdout",
          "text": [
            "White Train  5   Blue Train  5   Red Train  5   Nio Train  5\n",
            "White Test  5   Blue Test  5   Red Test  5   Nio Test  5\n"
          ]
        }
      ],
      "source": [
        "# Color df for Train Dataset\n",
        "print(\"White Train \", len(white_train), \" \", \"Blue Train \", len(blue_train), \" \", \"Red Train \", len(red_train), \" \", \"Nio Train \", len(nio_train))\n",
        "\n",
        "df_color_train = pd.DataFrame()\n",
        "for i in range(len(white_train)):\n",
        "  df_color_train = pd.concat([df_color_train, pd.Series(0)])\n",
        "for i in range(len(blue_train)):\n",
        "  df_color_train = pd.concat([df_color_train, pd.Series(1)])\n",
        "for i in range(len(red_train)):\n",
        "  df_color_train = pd.concat([df_color_train, pd.Series(2)])\n",
        "for i in range(len(nio_train)):\n",
        "  df_color_train = pd.concat([df_color_train, pd.Series(3)])\n",
        "df_color_train = df_color_train.astype(int)\n",
        "df_color_train.columns = ['color']\n",
        "\n",
        "\n",
        "# Color df for Test Dataset\n",
        "print(\"White Test \", len(white_test), \" \", \"Blue Test \", len(blue_test), \" \", \"Red Test \", len(red_test), \" \", \"Nio Test \", len(nio_test))\n",
        "df_color_test = pd.DataFrame()\n",
        "for i in range(len(white_test)):\n",
        "  df_color_test = pd.concat([df_color_test, pd.Series(0)])\n",
        "for i in range(len(blue_test)):\n",
        "  df_color_test = pd.concat([df_color_test, pd.Series(1)])\n",
        "for i in range(len(red_test)):\n",
        "  df_color_test = pd.concat([df_color_test, pd.Series(2)])\n",
        "for i in range(len(nio_test)):\n",
        "  df_color_test = pd.concat([df_color_test, pd.Series(3)])\n",
        "df_color_test = df_color_test.astype(int)\n",
        "df_color_test.columns = ['color']"
      ]
    },
    {
      "cell_type": "code",
      "execution_count": 9,
      "metadata": {
        "id": "00LNPt7DpcMa",
        "colab": {
          "base_uri": "https://localhost:8080/"
        },
        "outputId": "d3780536-45f1-4273-bae5-bf3cecfa57ea"
      },
      "outputs": [
        {
          "output_type": "stream",
          "name": "stdout",
          "text": [
            "(20, 1)\n",
            "(20, 1)\n"
          ]
        }
      ],
      "source": [
        "print(df_color_train.shape)\n",
        "print(df_color_test.shape)"
      ]
    },
    {
      "cell_type": "markdown",
      "source": [
        "# Train/Test Dataframe for each colors"
      ],
      "metadata": {
        "id": "6G9Ux3NO3tpX"
      }
    },
    {
      "cell_type": "code",
      "execution_count": 10,
      "metadata": {
        "id": "jCUKghPIjweo",
        "colab": {
          "base_uri": "https://localhost:8080/"
        },
        "outputId": "68e9bf73-2776-4327-c4d7-c965aed7300e"
      },
      "outputs": [
        {
          "output_type": "stream",
          "name": "stdout",
          "text": [
            " q -  0  r -  10  s -  20  t -  30\n",
            " q -  1  r -  11  s -  21  t -  31\n",
            " q -  2  r -  12  s -  22  t -  32\n",
            " q -  3  r -  13  s -  23  t -  33\n",
            " q -  4  r -  14  s -  24  t -  34\n",
            " \n",
            "\n",
            " q -  5  r -  15  s -  25  t -  35\n",
            " q -  6  r -  16  s -  26  t -  36\n",
            " q -  7  r -  17  s -  27  t -  37\n",
            " q -  8  r -  18  s -  28  t -  38\n",
            " q -  9  r -  19  s -  29  t -  39\n"
          ]
        }
      ],
      "source": [
        "# Merging df of different Colors into a single df for Train Dataset\n",
        "\n",
        "q= 0\n",
        "r= index_train + index_test\n",
        "s = index_train + index_test + r\n",
        "t = index_train + index_test + s\n",
        "\n",
        "\n",
        "for j in range(index_train):\n",
        "  print (' q - ',q,' r - ',r,' s - ',s,' t - ',t)\n",
        "  white_train[j] = pd.DataFrame(white_train[j])\n",
        "  white_train[j]['fileno'] = q\n",
        "  white_train_df = pd.concat([white_train_df, white_train[j]])\n",
        "\n",
        "  blue_train[j] = pd.DataFrame(blue_train[j])\n",
        "  blue_train[j]['fileno'] = r\n",
        "  blue_train_df = pd.concat([blue_train_df, blue_train[j]])\n",
        "\n",
        "  red_train[j] = pd.DataFrame(red_train[j])\n",
        "  red_train[j]['fileno'] = s\n",
        "  red_train_df = pd.concat([red_train_df, red_train[j]])\n",
        "\n",
        "  nio_train[j] = pd.DataFrame(nio_train[j])\n",
        "  nio_train[j]['fileno'] = t\n",
        "  nio_train_df = pd.concat([nio_train_df, nio_train[j]])\n",
        "\n",
        "  q = q + 1\n",
        "  r = r + 1\n",
        "  s = s + 1\n",
        "  t = t + 1\n",
        "\n",
        "\n",
        "\n",
        "# Merging df of different Colors into a single df for Test Dataset\n",
        "\n",
        "q= index_train\n",
        "r= r\n",
        "s = s\n",
        "t = t\n",
        "\n",
        "print (\" \\n\")\n",
        "\n",
        "for j in range(index_test):\n",
        "  print (' q - ',q,' r - ',r,' s - ',s,' t - ',t)\n",
        "  white_test[j] = pd.DataFrame(white_test[j])\n",
        "  white_test[j]['fileno'] = q\n",
        "  white_test_df = pd.concat([white_test_df, white_test[j]])\n",
        "\n",
        "  blue_test[j] = pd.DataFrame(blue_test[j])\n",
        "  blue_test[j]['fileno'] = r\n",
        "  blue_test_df = pd.concat([blue_test_df, blue_test[j]])\n",
        "\n",
        "  red_test[j] = pd.DataFrame(red_test[j])\n",
        "  red_test[j]['fileno'] = s\n",
        "  red_test_df = pd.concat([red_test_df, red_test[j]])\n",
        "\n",
        "  nio_test[j] = pd.DataFrame(nio_test[j])\n",
        "  nio_test[j]['fileno'] = t\n",
        "  nio_test_df = pd.concat([nio_test_df, nio_test[j]])\n",
        "\n",
        "  q = q + 1\n",
        "  r = r + 1\n",
        "  s = s + 1\n",
        "  t = t + 1"
      ]
    },
    {
      "cell_type": "markdown",
      "source": [
        "# Target attribute"
      ],
      "metadata": {
        "id": "hrhzaB8D3mOy"
      }
    },
    {
      "cell_type": "code",
      "execution_count": 11,
      "metadata": {
        "id": "5QgfBbBqrwoq"
      },
      "outputs": [],
      "source": [
        "#Assigning color to the the dataframe\n",
        "white_train_df ['color'] = 0\n",
        "blue_train_df ['color'] = 1\n",
        "red_train_df ['color'] = 2\n",
        "nio_train_df ['color'] = 3\n",
        "\n",
        "white_test_df ['color'] = 0\n",
        "blue_test_df ['color'] = 1\n",
        "red_test_df ['color'] = 2\n",
        "nio_test_df ['color'] = 3"
      ]
    },
    {
      "cell_type": "markdown",
      "source": [
        "# Final features DataFrames"
      ],
      "metadata": {
        "id": "LUtCv9fe34Ki"
      }
    },
    {
      "cell_type": "code",
      "source": [
        "df_train = pd.concat([white_train_df, blue_train_df, red_train_df, nio_train_df])\n",
        "df_test = pd.concat([white_test_df, blue_test_df, red_test_df, nio_test_df])"
      ],
      "metadata": {
        "id": "1R4W5K_k7Hgz"
      },
      "execution_count": 12,
      "outputs": []
    },
    {
      "cell_type": "markdown",
      "source": [
        "# Resetting Index on Feature & Target DataFrames"
      ],
      "metadata": {
        "id": "g5J4T-ad4FoQ"
      }
    },
    {
      "cell_type": "code",
      "source": [
        "df_train.reset_index(drop=True, inplace=True)\n",
        "df_test.reset_index(drop=True, inplace=True)\n",
        "df_color_train.reset_index(drop=True, inplace=True)\n",
        "df_color_test.reset_index(drop=True, inplace=True)"
      ],
      "metadata": {
        "id": "oLgU4Pqd1iCk"
      },
      "execution_count": 13,
      "outputs": []
    },
    {
      "cell_type": "markdown",
      "source": [
        "# Saving the final Feature and Target Dataframes"
      ],
      "metadata": {
        "id": "DEqbffE84UwQ"
      }
    },
    {
      "cell_type": "code",
      "source": [
        "df_train_file = f'df_train-({index}-file-per-each-color).csv'\n",
        "print(df_train_file)\n",
        "df_train.to_csv(df_train_file, sep=',')\n",
        "files.download(df_train_file)\n",
        "\n",
        "df_test_file = f'df_test-({index}-file-per-each-color).csv'\n",
        "print(df_test_file)\n",
        "df_test.to_csv(df_test_file, sep=',')\n",
        "files.download(df_test_file)\n",
        "\n",
        "df_color_train_file = f'df_color_train-({index}-file-per-each-color).csv'\n",
        "print(df_color_train_file)\n",
        "df_color_train.to_csv(df_color_train_file, sep=',')\n",
        "files.download(df_color_train_file)\n",
        "\n",
        "df_color_test_file = f'df_color_test-({index}-file-per-each-color).csv'\n",
        "print(df_color_test_file)\n",
        "df_color_test.to_csv(df_color_test_file, sep=',')\n",
        "files.download(df_color_test_file)"
      ],
      "metadata": {
        "id": "5-s1G3oL7Gbc",
        "colab": {
          "base_uri": "https://localhost:8080/",
          "height": 86
        },
        "outputId": "156b8ce5-50d9-48cb-fe30-557be2a42f9c"
      },
      "execution_count": 14,
      "outputs": [
        {
          "output_type": "stream",
          "name": "stdout",
          "text": [
            "df_train-(10-file-per-each-color).csv\n"
          ]
        },
        {
          "output_type": "display_data",
          "data": {
            "text/plain": [
              "<IPython.core.display.Javascript object>"
            ],
            "application/javascript": [
              "\n",
              "    async function download(id, filename, size) {\n",
              "      if (!google.colab.kernel.accessAllowed) {\n",
              "        return;\n",
              "      }\n",
              "      const div = document.createElement('div');\n",
              "      const label = document.createElement('label');\n",
              "      label.textContent = `Downloading \"${filename}\": `;\n",
              "      div.appendChild(label);\n",
              "      const progress = document.createElement('progress');\n",
              "      progress.max = size;\n",
              "      div.appendChild(progress);\n",
              "      document.body.appendChild(div);\n",
              "\n",
              "      const buffers = [];\n",
              "      let downloaded = 0;\n",
              "\n",
              "      const channel = await google.colab.kernel.comms.open(id);\n",
              "      // Send a message to notify the kernel that we're ready.\n",
              "      channel.send({})\n",
              "\n",
              "      for await (const message of channel.messages) {\n",
              "        // Send a message to notify the kernel that we're ready.\n",
              "        channel.send({})\n",
              "        if (message.buffers) {\n",
              "          for (const buffer of message.buffers) {\n",
              "            buffers.push(buffer);\n",
              "            downloaded += buffer.byteLength;\n",
              "            progress.value = downloaded;\n",
              "          }\n",
              "        }\n",
              "      }\n",
              "      const blob = new Blob(buffers, {type: 'application/binary'});\n",
              "      const a = document.createElement('a');\n",
              "      a.href = window.URL.createObjectURL(blob);\n",
              "      a.download = filename;\n",
              "      div.appendChild(a);\n",
              "      a.click();\n",
              "      div.remove();\n",
              "    }\n",
              "  "
            ]
          },
          "metadata": {}
        },
        {
          "output_type": "display_data",
          "data": {
            "text/plain": [
              "<IPython.core.display.Javascript object>"
            ],
            "application/javascript": [
              "download(\"download_b69ad220-d3bf-4ded-9b08-7ac5b775aa88\", \"df_train-(10-file-per-each-color).csv\", 15700728)"
            ]
          },
          "metadata": {}
        },
        {
          "output_type": "stream",
          "name": "stdout",
          "text": [
            "df_test-(10-file-per-each-color).csv\n"
          ]
        },
        {
          "output_type": "display_data",
          "data": {
            "text/plain": [
              "<IPython.core.display.Javascript object>"
            ],
            "application/javascript": [
              "\n",
              "    async function download(id, filename, size) {\n",
              "      if (!google.colab.kernel.accessAllowed) {\n",
              "        return;\n",
              "      }\n",
              "      const div = document.createElement('div');\n",
              "      const label = document.createElement('label');\n",
              "      label.textContent = `Downloading \"${filename}\": `;\n",
              "      div.appendChild(label);\n",
              "      const progress = document.createElement('progress');\n",
              "      progress.max = size;\n",
              "      div.appendChild(progress);\n",
              "      document.body.appendChild(div);\n",
              "\n",
              "      const buffers = [];\n",
              "      let downloaded = 0;\n",
              "\n",
              "      const channel = await google.colab.kernel.comms.open(id);\n",
              "      // Send a message to notify the kernel that we're ready.\n",
              "      channel.send({})\n",
              "\n",
              "      for await (const message of channel.messages) {\n",
              "        // Send a message to notify the kernel that we're ready.\n",
              "        channel.send({})\n",
              "        if (message.buffers) {\n",
              "          for (const buffer of message.buffers) {\n",
              "            buffers.push(buffer);\n",
              "            downloaded += buffer.byteLength;\n",
              "            progress.value = downloaded;\n",
              "          }\n",
              "        }\n",
              "      }\n",
              "      const blob = new Blob(buffers, {type: 'application/binary'});\n",
              "      const a = document.createElement('a');\n",
              "      a.href = window.URL.createObjectURL(blob);\n",
              "      a.download = filename;\n",
              "      div.appendChild(a);\n",
              "      a.click();\n",
              "      div.remove();\n",
              "    }\n",
              "  "
            ]
          },
          "metadata": {}
        },
        {
          "output_type": "display_data",
          "data": {
            "text/plain": [
              "<IPython.core.display.Javascript object>"
            ],
            "application/javascript": [
              "download(\"download_d32e3e04-2d1e-44f2-bb5b-88ae19f83614\", \"df_test-(10-file-per-each-color).csv\", 15791194)"
            ]
          },
          "metadata": {}
        },
        {
          "output_type": "stream",
          "name": "stdout",
          "text": [
            "df_color_train-(10-file-per-each-color).csv\n"
          ]
        },
        {
          "output_type": "display_data",
          "data": {
            "text/plain": [
              "<IPython.core.display.Javascript object>"
            ],
            "application/javascript": [
              "\n",
              "    async function download(id, filename, size) {\n",
              "      if (!google.colab.kernel.accessAllowed) {\n",
              "        return;\n",
              "      }\n",
              "      const div = document.createElement('div');\n",
              "      const label = document.createElement('label');\n",
              "      label.textContent = `Downloading \"${filename}\": `;\n",
              "      div.appendChild(label);\n",
              "      const progress = document.createElement('progress');\n",
              "      progress.max = size;\n",
              "      div.appendChild(progress);\n",
              "      document.body.appendChild(div);\n",
              "\n",
              "      const buffers = [];\n",
              "      let downloaded = 0;\n",
              "\n",
              "      const channel = await google.colab.kernel.comms.open(id);\n",
              "      // Send a message to notify the kernel that we're ready.\n",
              "      channel.send({})\n",
              "\n",
              "      for await (const message of channel.messages) {\n",
              "        // Send a message to notify the kernel that we're ready.\n",
              "        channel.send({})\n",
              "        if (message.buffers) {\n",
              "          for (const buffer of message.buffers) {\n",
              "            buffers.push(buffer);\n",
              "            downloaded += buffer.byteLength;\n",
              "            progress.value = downloaded;\n",
              "          }\n",
              "        }\n",
              "      }\n",
              "      const blob = new Blob(buffers, {type: 'application/binary'});\n",
              "      const a = document.createElement('a');\n",
              "      a.href = window.URL.createObjectURL(blob);\n",
              "      a.download = filename;\n",
              "      div.appendChild(a);\n",
              "      a.click();\n",
              "      div.remove();\n",
              "    }\n",
              "  "
            ]
          },
          "metadata": {}
        },
        {
          "output_type": "display_data",
          "data": {
            "text/plain": [
              "<IPython.core.display.Javascript object>"
            ],
            "application/javascript": [
              "download(\"download_84d47f01-f8ad-43c3-b448-1851c4fb627b\", \"df_color_train-(10-file-per-each-color).csv\", 97)"
            ]
          },
          "metadata": {}
        },
        {
          "output_type": "stream",
          "name": "stdout",
          "text": [
            "df_color_test-(10-file-per-each-color).csv\n"
          ]
        },
        {
          "output_type": "display_data",
          "data": {
            "text/plain": [
              "<IPython.core.display.Javascript object>"
            ],
            "application/javascript": [
              "\n",
              "    async function download(id, filename, size) {\n",
              "      if (!google.colab.kernel.accessAllowed) {\n",
              "        return;\n",
              "      }\n",
              "      const div = document.createElement('div');\n",
              "      const label = document.createElement('label');\n",
              "      label.textContent = `Downloading \"${filename}\": `;\n",
              "      div.appendChild(label);\n",
              "      const progress = document.createElement('progress');\n",
              "      progress.max = size;\n",
              "      div.appendChild(progress);\n",
              "      document.body.appendChild(div);\n",
              "\n",
              "      const buffers = [];\n",
              "      let downloaded = 0;\n",
              "\n",
              "      const channel = await google.colab.kernel.comms.open(id);\n",
              "      // Send a message to notify the kernel that we're ready.\n",
              "      channel.send({})\n",
              "\n",
              "      for await (const message of channel.messages) {\n",
              "        // Send a message to notify the kernel that we're ready.\n",
              "        channel.send({})\n",
              "        if (message.buffers) {\n",
              "          for (const buffer of message.buffers) {\n",
              "            buffers.push(buffer);\n",
              "            downloaded += buffer.byteLength;\n",
              "            progress.value = downloaded;\n",
              "          }\n",
              "        }\n",
              "      }\n",
              "      const blob = new Blob(buffers, {type: 'application/binary'});\n",
              "      const a = document.createElement('a');\n",
              "      a.href = window.URL.createObjectURL(blob);\n",
              "      a.download = filename;\n",
              "      div.appendChild(a);\n",
              "      a.click();\n",
              "      div.remove();\n",
              "    }\n",
              "  "
            ]
          },
          "metadata": {}
        },
        {
          "output_type": "display_data",
          "data": {
            "text/plain": [
              "<IPython.core.display.Javascript object>"
            ],
            "application/javascript": [
              "download(\"download_5390fe37-8453-430f-a247-9c2f6b1187a9\", \"df_color_test-(10-file-per-each-color).csv\", 97)"
            ]
          },
          "metadata": {}
        }
      ]
    }
  ]
}