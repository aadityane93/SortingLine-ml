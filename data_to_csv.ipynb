{
  "nbformat": 4,
  "nbformat_minor": 0,
  "metadata": {
    "colab": {
      "provenance": [],
      "authorship_tag": "ABX9TyPBWTnUrU4D1EtmrqLHkTRN",
      "include_colab_link": true
    },
    "kernelspec": {
      "name": "python3",
      "display_name": "Python 3"
    },
    "language_info": {
      "name": "python"
    }
  },
  "cells": [
    {
      "cell_type": "markdown",
      "metadata": {
        "id": "view-in-github",
        "colab_type": "text"
      },
      "source": [
        "<a href=\"https://colab.research.google.com/github/aadityane93/SortingLine-ml/blob/main/data_to_csv.ipynb\" target=\"_parent\"><img src=\"https://colab.research.google.com/assets/colab-badge.svg\" alt=\"Open In Colab\"/></a>"
      ]
    },
    {
      "cell_type": "code",
      "execution_count": null,
      "metadata": {
        "id": "jZzk-ZKuC3Gz"
      },
      "outputs": [],
      "source": [
        "from google.colab import files\n",
        "import numpy as np\n",
        "import pandas as pd"
      ]
    },
    {
      "cell_type": "code",
      "execution_count": null,
      "metadata": {
        "colab": {
          "base_uri": "https://localhost:8080/"
        },
        "id": "6MT7Aqf4CcUI",
        "outputId": "da56bfeb-043f-4ca3-f318-98a697272bc5"
      },
      "outputs": [
        {
          "output_type": "stream",
          "name": "stderr",
          "text": [
            "WARNING:root:pydrive is deprecated and no longer maintained. We recommend that you migrate your projects to pydrive2, the maintained fork of pydrive\n"
          ]
        },
        {
          "output_type": "stream",
          "name": "stdout",
          "text": [
            "Processing folder: wiO\n",
            "Downloading 100Hz_Sort_wiO_02052024_10.csv as wiO-0\n",
            "Downloading 100Hz_Sort_wiO_02052024_9.csv as wiO-1\n",
            "Downloading 100Hz_Sort_wiO_02052024_8.csv as wiO-2\n",
            "Downloading 100Hz_Sort_wiO_02052024_7.csv as wiO-3\n",
            "Downloading 100Hz_Sort_wiO_02052024_6.csv as wiO-4\n",
            "Downloading 100Hz_Sort_wiO_02052024_5.csv as wiO-5\n",
            "Downloading 100Hz_Sort_wiO_02052024_4.csv as wiO-6\n",
            "Downloading 100Hz_Sort_wiO_02052024_3.csv as wiO-7\n",
            "Downloading 100Hz_Sort_wiO_02052024_2.csv as wiO-8\n",
            "Downloading 100Hz_Sort_wiO_02052024_1.csv as wiO-9\n",
            "Processing folder: riO\n",
            "Downloading 100Hz_Sort_riO_02052024_10.csv as riO-0\n",
            "Downloading 100Hz_Sort_riO_02052024_9.csv as riO-1\n",
            "Downloading 100Hz_Sort_riO_02052024_8.csv as riO-2\n",
            "Downloading 100Hz_Sort_riO_02052024_7.csv as riO-3\n",
            "Downloading 100Hz_Sort_riO_02052024_6.csv as riO-4\n",
            "Downloading 100Hz_Sort_riO_02052024_5.csv as riO-5\n",
            "Downloading 100Hz_Sort_riO_02052024_4.csv as riO-6\n",
            "Downloading 100Hz_Sort_riO_02052024_3.csv as riO-7\n",
            "Downloading 100Hz_Sort_riO_02052024_2.csv as riO-8\n",
            "Downloading 100Hz_Sort_riO_02052024_1.csv as riO-9\n",
            "Processing folder: niO\n",
            "Downloading 100Hz_Sort_niO_02052024_10.csv as niO-0\n",
            "Downloading 100Hz_Sort_niO_02052024_9.csv as niO-1\n",
            "Downloading 100Hz_Sort_niO_02052024_8.csv as niO-2\n",
            "Downloading 100Hz_Sort_niO_02052024_7.csv as niO-3\n",
            "Downloading 100Hz_Sort_niO_02052024_6.csv as niO-4\n",
            "Downloading 100Hz_Sort_niO_02052024_5.csv as niO-5\n",
            "Downloading 100Hz_Sort_niO_02052024_4.csv as niO-6\n",
            "Downloading 100Hz_Sort_niO_02052024_3.csv as niO-7\n",
            "Downloading 100Hz_Sort_niO_02052024_2.csv as niO-8\n",
            "Downloading 100Hz_Sort_niO_02052024_1.csv as niO-9\n",
            "Processing folder: biO\n",
            "Downloading 100Hz_Sort_biO_02052024_10.csv as biO-0\n",
            "Downloading 100Hz_Sort_biO_02052024_9.csv as biO-1\n",
            "Downloading 100Hz_Sort_biO_02052024_8.csv as biO-2\n",
            "Downloading 100Hz_Sort_biO_02052024_7.csv as biO-3\n",
            "Downloading 100Hz_Sort_biO_02052024_6.csv as biO-4\n",
            "Downloading 100Hz_Sort_biO_02052024_5.csv as biO-5\n",
            "Downloading 100Hz_Sort_biO_02052024_4.csv as biO-6\n",
            "Downloading 100Hz_Sort_biO_02052024_3.csv as biO-7\n",
            "Downloading 100Hz_Sort_biO_02052024_2.csv as biO-8\n",
            "Downloading 100Hz_Sort_biO_02052024_1.csv as biO-9\n"
          ]
        }
      ],
      "source": [
        "from pydrive.auth import GoogleAuth\n",
        "from pydrive.drive import GoogleDrive\n",
        "from google.colab import auth\n",
        "from oauth2client.client import GoogleCredentials\n",
        "import os\n",
        "\n",
        "# Authenticate and create the PyDrive client.\n",
        "auth.authenticate_user()\n",
        "gauth = GoogleAuth()\n",
        "gauth.credentials = GoogleCredentials.get_application_default()\n",
        "drive = GoogleDrive(gauth)\n",
        "# folder_id = '1BZJfMkmr5uyyL1iZGPQen-B3VTYrJjD0' #100 files\n",
        "# folder_id = '1bxp8LJq3826UeOR44M9ZiDFX61Dp-xSf' #all files\n",
        "folder_id = '1Goeo7w4XQ_BRZVN8zRX3t11Ollg811VB' #10 files\n",
        "folder_list = drive.ListFile({'q': \"'{}' in parents and mimeType='application/vnd.google-apps.folder' and trashed=false\".format(folder_id)}).GetList()\n",
        "\n",
        "\n",
        "for folder in folder_list:\n",
        "    folder_title = folder['title']\n",
        "    print(f\"Processing folder: {folder_title}\")\n",
        "    file_list = drive.ListFile({'q': \"'{}' in parents and trashed=false\".format(folder['id'])}).GetList()\n",
        "\n",
        "    for index, file in enumerate(file_list):\n",
        "        file_title = file['title']\n",
        "        new_file_name = f\"{folder_title}-{index}\"\n",
        "        print(f\"Downloading {file_title} as {new_file_name}\")\n",
        "        file.GetContentFile(new_file_name)"
      ]
    },
    {
      "cell_type": "code",
      "execution_count": null,
      "metadata": {
        "colab": {
          "base_uri": "https://localhost:8080/"
        },
        "id": "xnOPhXMwEPPM",
        "outputId": "437fbc53-868f-447b-c4e4-5efb5acadca0"
      },
      "outputs": [
        {
          "output_type": "stream",
          "name": "stdout",
          "text": [
            "total no. of files for each color  -  10\n",
            "total no. of files  -  40\n",
            " \n",
            "Percent of training data - 50%\n",
            "No. of files for training - 5\n",
            " \n",
            "Percent of testing data - 50%\n",
            "No. of files for testing - 5\n"
          ]
        }
      ],
      "source": [
        "########################################################## INDEX ################################################\n",
        "\n",
        "index = 10\n",
        "\n",
        "\n",
        "########################################################## INDEX ################################################\n",
        "\n",
        "\n",
        "#test train percentage\n",
        "test_train_split_percentage = 50   # __% percent of data files will be used to train the model\n",
        "\n",
        "print (\"total no. of files for each color  - \", index)\n",
        "print (\"total no. of files  - \", index*4)\n",
        "print (\" \")\n",
        "\n",
        "#Index to seperarate the read data into train and test dataframes\n",
        "index_train = (test_train_split_percentage/100)* index\n",
        "index_train = int(index_train)\n",
        "index_test_percentage = 100 - test_train_split_percentage\n",
        "index_test = (index_test_percentage/100)* index\n",
        "index_test = int(index_test)\n",
        "\n",
        "print (f\"Percent of training data - {test_train_split_percentage}%\")\n",
        "print (f\"No. of files for training - {index_train}\")\n",
        "print (\" \")\n",
        "print (f\"Percent of testing data - {index_test_percentage}%\")\n",
        "print (f\"No. of files for testing - {index_test}\")"
      ]
    },
    {
      "cell_type": "code",
      "execution_count": null,
      "metadata": {
        "colab": {
          "base_uri": "https://localhost:8080/"
        },
        "id": "PCfIeXGAID4W",
        "outputId": "e261a15d-09d6-4e78-9280-1a0d6f0e0d3a"
      },
      "outputs": [
        {
          "output_type": "stream",
          "name": "stdout",
          "text": [
            "0\n",
            "1\n",
            "2\n",
            "3\n",
            "4\n",
            "\n",
            "\n",
            "5\n",
            "6\n",
            "7\n",
            "8\n",
            "9\n"
          ]
        }
      ],
      "source": [
        "def read_file(filename):\n",
        "    return pd.read_csv((filename), sep=',')\n",
        "\n",
        "# Dictonaries to read the files\n",
        "white_train = {}\n",
        "white_test = {}\n",
        "blue_train = {}\n",
        "blue_test = {}\n",
        "red_train = {}\n",
        "red_test = {}\n",
        "nio_train = {}\n",
        "nio_test = {}\n",
        "\n",
        "#Assigning df\n",
        "white_train_df = pd.DataFrame()\n",
        "white_test_df = pd.DataFrame()\n",
        "blue_train_df = pd.DataFrame()\n",
        "blue_test_df = pd.DataFrame()\n",
        "red_train_df = pd.DataFrame()\n",
        "red_test_df = pd.DataFrame()\n",
        "nio_train_df = pd.DataFrame()\n",
        "nio_test_df = pd.DataFrame()\n",
        "\n",
        "#Reading files for training\n",
        "for j in range (index_train):\n",
        "  white_train[j] = read_file(f\"wiO-{j}\")\n",
        "  blue_train[j] = read_file(f\"biO-{j}\")\n",
        "  red_train[j] = read_file(f\"riO-{j}\")\n",
        "  nio_train[j] = read_file(f\"niO-{j}\")\n",
        "  print(j)\n",
        "\n",
        "print(\"\\n\")\n",
        "#Reading files for testing\n",
        "for i in range (index_test):\n",
        "  white_test[i] = read_file(f\"wiO-{i+index_train}\")\n",
        "  blue_test[i] = read_file(f\"biO-{i+index_train}\")\n",
        "  red_test[i] = read_file(f\"riO-{i+index_train}\")\n",
        "  nio_test[i] = read_file(f\"niO-{i+index_train}\")\n",
        "  print (i+index_train)"
      ]
    },
    {
      "cell_type": "code",
      "execution_count": null,
      "metadata": {
        "colab": {
          "base_uri": "https://localhost:8080/"
        },
        "id": "ftU3gMyLKTNd",
        "outputId": "3f6fa0e9-eebd-44c1-8349-1aabd09bb1fe"
      },
      "outputs": [
        {
          "output_type": "execute_result",
          "data": {
            "text/plain": [
              "{0:           Datum                         Uhrzeit  I_In   V_In  P_In(W)  \\\n",
              " 0    2024-05-02  2024-05-02 11:19:09.845032:845  0.25  11.52   2.8800   \n",
              " 1    2024-05-02  2024-05-02 11:19:09.853083:853  0.29  11.65   3.3785   \n",
              " 2    2024-05-02  2024-05-02 11:19:09.861520:861  0.39  11.65   4.5435   \n",
              " 3    2024-05-02  2024-05-02 11:19:09.873394:873  0.27  11.61   3.1347   \n",
              " 4    2024-05-02  2024-05-02 11:19:09.881917:881  0.25  11.74   2.9350   \n",
              " ..          ...                             ...   ...    ...      ...   \n",
              " 631  2024-05-02  2024-05-02 11:19:16.164622:164  0.46  11.74   5.4004   \n",
              " 632  2024-05-02  2024-05-02 11:19:16.172920:172  0.44  11.61   5.1084   \n",
              " 633  2024-05-02  2024-05-02 11:19:16.185082:185  0.39  11.61   4.5279   \n",
              " 634  2024-05-02  2024-05-02 11:19:16.193455:193  0.44  11.61   5.1084   \n",
              " 635  2024-05-02  2024-05-02 11:19:16.205752:205  0.50  11.70   5.8500   \n",
              " \n",
              "      I_Out(A)  V_Out(V)  P_Out(W)  Temp(°C)  Energie_In(Wh)  Energie_Out(Wh)  \n",
              " 0        0.23      9.00    2.0700     37.13        0.096182         0.076450  \n",
              " 1        0.25      9.00    2.2500     36.63        0.096190         0.076455  \n",
              " 2        0.33      9.03    2.9799     37.13        0.096200         0.076462  \n",
              " 3        0.41      9.03    3.7023     37.13        0.096211         0.076474  \n",
              " 4        0.25      9.03    2.2575     37.13        0.096218         0.076479  \n",
              " ..        ...       ...       ...       ...             ...              ...  \n",
              " 631      0.52      8.97    4.6644     37.13        0.102455         0.081344  \n",
              " 632      0.56      9.00    5.0400     37.13        0.102466         0.081355  \n",
              " 633      0.52      9.03    4.6956     36.88        0.102482         0.081371  \n",
              " 634      0.54      9.00    4.8600     37.13        0.102493         0.081383  \n",
              " 635      0.58      9.00    5.2200     36.88        0.102513         0.081400  \n",
              " \n",
              " [636 rows x 11 columns],\n",
              " 1:           Datum                         Uhrzeit  I_In   V_In  P_In(W)  \\\n",
              " 0    2024-05-02  2024-05-02 11:19:01.190735:190  0.29  11.65   3.3785   \n",
              " 1    2024-05-02  2024-05-02 11:19:01.198211:198  0.27  11.74   3.1698   \n",
              " 2    2024-05-02  2024-05-02 11:19:01.206704:206  0.27  11.56   3.1212   \n",
              " 3    2024-05-02  2024-05-02 11:19:01.214734:214  0.25  11.74   2.9350   \n",
              " 4    2024-05-02  2024-05-02 11:19:01.226810:226  0.31  11.61   3.5991   \n",
              " ..          ...                             ...   ...    ...      ...   \n",
              " 634  2024-05-02  2024-05-02 11:19:07.538629:538  0.46  11.61   5.3406   \n",
              " 635  2024-05-02  2024-05-02 11:19:07.547350:547  0.48  11.61   5.5728   \n",
              " 636  2024-05-02  2024-05-02 11:19:07.559370:559  0.46  11.61   5.3406   \n",
              " 637  2024-05-02  2024-05-02 11:19:07.568056:568  0.41  11.74   4.8134   \n",
              " 638  2024-05-02  2024-05-02 11:19:07.580116:580  0.50  11.61   5.8050   \n",
              " \n",
              "      I_Out(A)  V_Out(V)  P_Out(W)  Temp(°C)  Energie_In(Wh)  Energie_Out(Wh)  \n",
              " 0        0.25      9.03    2.2575     37.13        0.088033         0.070146  \n",
              " 1        0.33      9.00    2.9700     37.13        0.088040         0.070152  \n",
              " 2        0.31      9.03    2.7993     37.13        0.088047         0.070159  \n",
              " 3        0.31      9.00    2.7900     37.13        0.088054         0.070165  \n",
              " 4        0.33      9.00    2.9700     37.13        0.088066         0.070175  \n",
              " ..        ...       ...       ...       ...             ...              ...  \n",
              " 634      0.46      9.03    4.1538     37.13        0.094308         0.075095  \n",
              " 635      0.46      9.03    4.1538     37.13        0.094321         0.075105  \n",
              " 636      0.56      9.03    5.0568     37.13        0.094339         0.075122  \n",
              " 637      0.48      9.03    4.3344     37.13        0.094351         0.075132  \n",
              " 638      0.50      9.00    4.5000     37.13        0.094370         0.075147  \n",
              " \n",
              " [639 rows x 11 columns],\n",
              " 2:           Datum                         Uhrzeit  I_In   V_In  P_In(W)  \\\n",
              " 0    2024-05-02  2024-05-02 11:18:51.495464:495  0.29  11.74   3.4046   \n",
              " 1    2024-05-02  2024-05-02 11:18:51.499253:499  0.31  11.65   3.6115   \n",
              " 2    2024-05-02  2024-05-02 11:18:51.507688:507  0.31  11.61   3.5991   \n",
              " 3    2024-05-02  2024-05-02 11:18:51.519617:519  0.25  11.61   2.9025   \n",
              " 4    2024-05-02  2024-05-02 11:18:51.527913:527  0.31  11.70   3.6270   \n",
              " ..          ...                             ...   ...    ...      ...   \n",
              " 645  2024-05-02  2024-05-02 11:18:57.950182:950  0.43  11.74   5.0482   \n",
              " 646  2024-05-02  2024-05-02 11:18:57.958445:958  0.46  11.61   5.3406   \n",
              " 647  2024-05-02  2024-05-02 11:18:57.970570:970  0.41  11.61   4.7601   \n",
              " 648  2024-05-02  2024-05-02 11:18:57.978892:978  0.35  11.61   4.0635   \n",
              " 649  2024-05-02  2024-05-02 11:18:57.991229:991  0.50  11.61   5.8050   \n",
              " \n",
              "      I_Out(A)  V_Out(V)  P_Out(W)  Temp(°C)  Energie_In(Wh)  Energie_Out(Wh)  \n",
              " 0        0.25      9.03    2.2575     37.13        0.078640         0.063097  \n",
              " 1        0.25      9.03    2.2575     37.13        0.078643         0.063100  \n",
              " 2        0.46      9.03    4.1538     37.13        0.078652         0.063109  \n",
              " 3        0.31      9.00    2.7900     37.13        0.078661         0.063118  \n",
              " 4        0.35      9.03    3.1605     37.13        0.078670         0.063126  \n",
              " ..        ...       ...       ...       ...             ...              ...  \n",
              " 645      0.46      9.03    4.1538     36.88        0.084973         0.068086  \n",
              " 646      0.48      9.00    4.3200     37.13        0.084985         0.068096  \n",
              " 647      0.56      9.00    5.0400     37.13        0.085001         0.068113  \n",
              " 648      0.54      9.03    4.8762     37.13        0.085011         0.068124  \n",
              " 649      0.50      9.03    4.5150     37.13        0.085031         0.068139  \n",
              " \n",
              " [650 rows x 11 columns],\n",
              " 3:           Datum                         Uhrzeit  I_In   V_In  P_In(W)  \\\n",
              " 0    2024-05-02  2024-05-02 11:18:41.554645:554  0.27  11.65   3.1455   \n",
              " 1    2024-05-02  2024-05-02 11:18:41.558845:558  0.27  11.52   3.1104   \n",
              " 2    2024-05-02  2024-05-02 11:18:41.571060:571  0.31  11.61   3.5991   \n",
              " 3    2024-05-02  2024-05-02 11:18:41.578861:578  0.37  11.56   4.2772   \n",
              " 4    2024-05-02  2024-05-02 11:18:41.590955:590  0.25  11.61   2.9025   \n",
              " ..          ...                             ...   ...    ...      ...   \n",
              " 633  2024-05-02  2024-05-02 11:18:47.890673:890  0.48  11.70   5.6160   \n",
              " 634  2024-05-02  2024-05-02 11:18:47.902896:902  0.50  11.52   5.7600   \n",
              " 635  2024-05-02  2024-05-02 11:18:47.911207:911  0.46  11.61   5.3406   \n",
              " 636  2024-05-02  2024-05-02 11:18:47.919442:919  0.43  11.61   4.9923   \n",
              " 637  2024-05-02  2024-05-02 11:18:47.931634:931  0.31  11.61   3.5991   \n",
              " \n",
              "      I_Out(A)  V_Out(V)  P_Out(W)  Temp(°C)  Energie_In(Wh)  Energie_Out(Wh)  \n",
              " 0        0.33      9.00    2.9700     37.13        0.068988         0.055869  \n",
              " 1        0.27      9.03    2.4381     36.88        0.068991         0.055872  \n",
              " 2        0.27      9.00    2.4300     36.88        0.069003         0.055880  \n",
              " 3        0.39      9.00    3.5100     37.13        0.069013         0.055888  \n",
              " 4        0.33      9.00    2.9700     36.88        0.069022         0.055898  \n",
              " ..        ...       ...       ...       ...             ...              ...  \n",
              " 633      0.48      9.00    4.3200     36.88        0.075214         0.060817  \n",
              " 634      0.54      9.03    4.8762     37.13        0.075233         0.060834  \n",
              " 635      0.54      9.00    4.8600     37.13        0.075246         0.060845  \n",
              " 636      0.46      9.00    4.1400     37.13        0.075257         0.060855  \n",
              " 637      0.25      9.03    2.2575     37.13        0.075269         0.060862  \n",
              " \n",
              " [638 rows x 11 columns],\n",
              " 4:           Datum                         Uhrzeit  I_In   V_In  P_In(W)  \\\n",
              " 0    2024-05-02  2024-05-02 11:18:26.784883:784  0.29  11.61   3.3669   \n",
              " 1    2024-05-02  2024-05-02 11:18:26.792770:792  0.31  11.70   3.6270   \n",
              " 2    2024-05-02  2024-05-02 11:18:26.801148:801  0.27  11.70   3.1590   \n",
              " 3    2024-05-02  2024-05-02 11:18:26.812980:812  0.27  11.61   3.1347   \n",
              " 4    2024-05-02  2024-05-02 11:18:26.821298:821  0.31  11.65   3.6115   \n",
              " ..          ...                             ...   ...    ...      ...   \n",
              " 612  2024-05-02  2024-05-02 11:18:32.911961:911  0.43  11.70   5.0310   \n",
              " 613  2024-05-02  2024-05-02 11:18:32.924098:924  0.46  11.56   5.3176   \n",
              " 614  2024-05-02  2024-05-02 11:18:32.932374:932  0.54  11.61   6.2694   \n",
              " 615  2024-05-02  2024-05-02 11:18:32.944610:944  0.50  11.65   5.8250   \n",
              " 616  2024-05-02  2024-05-02 11:18:32.953064:953  0.44  11.74   5.1656   \n",
              " \n",
              "      I_Out(A)  V_Out(V)  P_Out(W)  Temp(°C)  Energie_In(Wh)  Energie_Out(Wh)  \n",
              " 0        0.29      9.03    2.6187     36.88        0.055346         0.043973  \n",
              " 1        0.25      9.03    2.2575     36.88        0.055354         0.043978  \n",
              " 2        0.31      9.00    2.7900     37.13        0.055361         0.043985  \n",
              " 3        0.31      9.03    2.7993     37.13        0.055371         0.043994  \n",
              " 4        0.25      9.00    2.2500     37.13        0.055380         0.043999  \n",
              " ..        ...       ...       ...       ...             ...              ...  \n",
              " 612      0.56      9.00    5.0400     37.13        0.061408         0.048721  \n",
              " 613      0.48      9.00    4.3200     37.13        0.061426         0.048735  \n",
              " 614      0.50      9.03    4.5150     37.13        0.061440         0.048745  \n",
              " 615      0.52      9.00    4.6800     36.88        0.061460         0.048761  \n",
              " 616      0.54      8.97    4.8438     37.13        0.061472         0.048773  \n",
              " \n",
              " [617 rows x 11 columns]}"
            ]
          },
          "metadata": {},
          "execution_count": 19
        }
      ],
      "source": [
        "white_train"
      ]
    },
    {
      "cell_type": "code",
      "execution_count": null,
      "metadata": {
        "colab": {
          "base_uri": "https://localhost:8080/"
        },
        "id": "SYuIBas9nkHR",
        "outputId": "eab7b183-35a8-4213-bb03-b2494f00a1df"
      },
      "outputs": [
        {
          "output_type": "stream",
          "name": "stdout",
          "text": [
            "White Train  5   Blue Train  5   Red Train  5   Nio Train  5\n",
            "White Test  5   Blue Test  5   Red Test  5   Nio Test  5\n"
          ]
        }
      ],
      "source": [
        "# Color df for Train Dataset\n",
        "print(\"White Train \", len(white_train), \" \", \"Blue Train \", len(blue_train), \" \", \"Red Train \", len(red_train), \" \", \"Nio Train \", len(nio_train))\n",
        "\n",
        "df_color_train = pd.DataFrame()\n",
        "for i in range(len(white_train)):\n",
        "  df_color_train = pd.concat([df_color_train, pd.Series(0)])\n",
        "for i in range(len(blue_train)):\n",
        "  df_color_train = pd.concat([df_color_train, pd.Series(1)])\n",
        "for i in range(len(red_train)):\n",
        "  df_color_train = pd.concat([df_color_train, pd.Series(2)])\n",
        "for i in range(len(nio_train)):\n",
        "  df_color_train = pd.concat([df_color_train, pd.Series(3)])\n",
        "df_color_train = df_color_train.astype(int)\n",
        "df_color_train.columns = ['color']\n",
        "\n",
        "\n",
        "# Color df for Test Dataset\n",
        "print(\"White Test \", len(white_test), \" \", \"Blue Test \", len(blue_test), \" \", \"Red Test \", len(red_test), \" \", \"Nio Test \", len(nio_test))\n",
        "df_color_test = pd.DataFrame()\n",
        "for i in range(len(white_test)):\n",
        "  df_color_test = pd.concat([df_color_test, pd.Series(0)])\n",
        "for i in range(len(blue_test)):\n",
        "  df_color_test = pd.concat([df_color_test, pd.Series(1)])\n",
        "for i in range(len(red_test)):\n",
        "  df_color_test = pd.concat([df_color_test, pd.Series(2)])\n",
        "for i in range(len(nio_test)):\n",
        "  df_color_test = pd.concat([df_color_test, pd.Series(3)])\n",
        "df_color_test = df_color_test.astype(int)\n",
        "df_color_test.columns = ['color']"
      ]
    },
    {
      "cell_type": "code",
      "execution_count": null,
      "metadata": {
        "id": "00LNPt7DpcMa",
        "colab": {
          "base_uri": "https://localhost:8080/"
        },
        "outputId": "e269e454-1831-4ef2-a35d-9a6df7c33233"
      },
      "outputs": [
        {
          "output_type": "stream",
          "name": "stdout",
          "text": [
            "(20, 1)\n",
            "(20, 1)\n"
          ]
        }
      ],
      "source": [
        "print(df_color_train.shape)\n",
        "print(df_color_test.shape)"
      ]
    },
    {
      "cell_type": "code",
      "execution_count": null,
      "metadata": {
        "id": "jCUKghPIjweo",
        "colab": {
          "base_uri": "https://localhost:8080/"
        },
        "outputId": "953a6f90-f7da-4563-f067-7bea465b56a0"
      },
      "outputs": [
        {
          "output_type": "stream",
          "name": "stdout",
          "text": [
            " q -  0  r -  10  s -  20  t -  30\n",
            " q -  1  r -  11  s -  21  t -  31\n",
            " q -  2  r -  12  s -  22  t -  32\n",
            " q -  3  r -  13  s -  23  t -  33\n",
            " q -  4  r -  14  s -  24  t -  34\n",
            " \n",
            "\n",
            " q -  5  r -  15  s -  25  t -  35\n",
            " q -  6  r -  16  s -  26  t -  36\n",
            " q -  7  r -  17  s -  27  t -  37\n",
            " q -  8  r -  18  s -  28  t -  38\n",
            " q -  9  r -  19  s -  29  t -  39\n"
          ]
        }
      ],
      "source": [
        "# Merging df of different Colors into a single df for Train Dataset\n",
        "\n",
        "q= 0\n",
        "r= index_train + index_test\n",
        "s = index_train + index_test + r\n",
        "t = index_train + index_test + s\n",
        "\n",
        "\n",
        "for j in range(index_train):\n",
        "  print (' q - ',q,' r - ',r,' s - ',s,' t - ',t)\n",
        "  white_train[j] = pd.DataFrame(white_train[j])\n",
        "  white_train[j]['fileno'] = q\n",
        "  white_train_df = pd.concat([white_train_df, white_train[j]])\n",
        "\n",
        "  blue_train[j] = pd.DataFrame(blue_train[j])\n",
        "  blue_train[j]['fileno'] = r\n",
        "  blue_train_df = pd.concat([blue_train_df, blue_train[j]])\n",
        "\n",
        "  red_train[j] = pd.DataFrame(red_train[j])\n",
        "  red_train[j]['fileno'] = s\n",
        "  red_train_df = pd.concat([red_train_df, red_train[j]])\n",
        "\n",
        "  nio_train[j] = pd.DataFrame(nio_train[j])\n",
        "  nio_train[j]['fileno'] = t\n",
        "  nio_train_df = pd.concat([nio_train_df, nio_train[j]])\n",
        "\n",
        "  q = q + 1\n",
        "  r = r + 1\n",
        "  s = s + 1\n",
        "  t = t + 1\n",
        "\n",
        "\n",
        "\n",
        "# Merging df of different Colors into a single df for Test Dataset\n",
        "\n",
        "q= index_train\n",
        "r= r\n",
        "s = s\n",
        "t = t\n",
        "\n",
        "print (\" \\n\")\n",
        "\n",
        "for j in range(index_test):\n",
        "  print (' q - ',q,' r - ',r,' s - ',s,' t - ',t)\n",
        "  white_test[j] = pd.DataFrame(white_test[j])\n",
        "  white_test[j]['fileno'] = q\n",
        "  white_test_df = pd.concat([white_test_df, white_test[j]])\n",
        "\n",
        "  blue_test[j] = pd.DataFrame(blue_test[j])\n",
        "  blue_test[j]['fileno'] = r\n",
        "  blue_test_df = pd.concat([blue_test_df, blue_test[j]])\n",
        "\n",
        "  red_test[j] = pd.DataFrame(red_test[j])\n",
        "  red_test[j]['fileno'] = s\n",
        "  red_test_df = pd.concat([red_test_df, red_test[j]])\n",
        "\n",
        "  nio_test[j] = pd.DataFrame(nio_test[j])\n",
        "  nio_test[j]['fileno'] = t\n",
        "  nio_test_df = pd.concat([nio_test_df, nio_test[j]])\n",
        "\n",
        "  q = q + 1\n",
        "  r = r + 1\n",
        "  s = s + 1\n",
        "  t = t + 1"
      ]
    },
    {
      "cell_type": "code",
      "execution_count": null,
      "metadata": {
        "id": "GDHXozlvs_if"
      },
      "outputs": [],
      "source": [
        "# for i in range (len(white_df)):\n",
        "#   white_df['fileno'] = i\n",
        "# for j in range (i, i + len(blue_df)):\n",
        "#   blue_df['fileno'].append(j)\n",
        "# for k in range (j,j+len(red_df)):\n",
        "#   red_df['fileno'].append(j)\n",
        "# for l in range (k, k+len(nio_df)):\n",
        "#   nio_df['fileno'].append(j)"
      ]
    },
    {
      "cell_type": "code",
      "execution_count": null,
      "metadata": {
        "id": "5QgfBbBqrwoq"
      },
      "outputs": [],
      "source": [
        "#Assigning color to the the dataframe\n",
        "white_train_df ['color'] = 0\n",
        "blue_train_df ['color'] = 1\n",
        "red_train_df ['color'] = 2\n",
        "nio_train_df ['color'] = 3\n",
        "\n",
        "white_test_df ['color'] = 0\n",
        "blue_test_df ['color'] = 1\n",
        "red_test_df ['color'] = 2\n",
        "nio_test_df ['color'] = 3"
      ]
    },
    {
      "cell_type": "code",
      "source": [
        "df_train = pd.concat([white_train_df, blue_train_df, red_train_df, nio_train_df])\n",
        "df_test = pd.concat([white_test_df, blue_test_df, red_test_df, nio_test_df])"
      ],
      "metadata": {
        "id": "1R4W5K_k7Hgz"
      },
      "execution_count": null,
      "outputs": []
    },
    {
      "cell_type": "code",
      "source": [
        "df_train_file = f'df_train_file-{index}-(per-each-color).csv'\n",
        "print(df_train_file)\n",
        "df_train.to_csv(df_train_file, sep=',')\n",
        "files.download(df_train_file)\n",
        "\n",
        "df_test_file = f'df_test_file-{index}-(per-each-color).csv'\n",
        "print(df_test_file)\n",
        "df_test.to_csv(df_test_file, sep=',')\n",
        "files.download(df_test_file)"
      ],
      "metadata": {
        "id": "5-s1G3oL7Gbc",
        "colab": {
          "base_uri": "https://localhost:8080/",
          "height": 55
        },
        "outputId": "99680e79-94ea-4896-a437-593863bbf19f"
      },
      "execution_count": null,
      "outputs": [
        {
          "output_type": "stream",
          "name": "stdout",
          "text": [
            "df_train_file-10-(per-each-color).csv\n"
          ]
        },
        {
          "output_type": "display_data",
          "data": {
            "text/plain": [
              "<IPython.core.display.Javascript object>"
            ],
            "application/javascript": [
              "\n",
              "    async function download(id, filename, size) {\n",
              "      if (!google.colab.kernel.accessAllowed) {\n",
              "        return;\n",
              "      }\n",
              "      const div = document.createElement('div');\n",
              "      const label = document.createElement('label');\n",
              "      label.textContent = `Downloading \"${filename}\": `;\n",
              "      div.appendChild(label);\n",
              "      const progress = document.createElement('progress');\n",
              "      progress.max = size;\n",
              "      div.appendChild(progress);\n",
              "      document.body.appendChild(div);\n",
              "\n",
              "      const buffers = [];\n",
              "      let downloaded = 0;\n",
              "\n",
              "      const channel = await google.colab.kernel.comms.open(id);\n",
              "      // Send a message to notify the kernel that we're ready.\n",
              "      channel.send({})\n",
              "\n",
              "      for await (const message of channel.messages) {\n",
              "        // Send a message to notify the kernel that we're ready.\n",
              "        channel.send({})\n",
              "        if (message.buffers) {\n",
              "          for (const buffer of message.buffers) {\n",
              "            buffers.push(buffer);\n",
              "            downloaded += buffer.byteLength;\n",
              "            progress.value = downloaded;\n",
              "          }\n",
              "        }\n",
              "      }\n",
              "      const blob = new Blob(buffers, {type: 'application/binary'});\n",
              "      const a = document.createElement('a');\n",
              "      a.href = window.URL.createObjectURL(blob);\n",
              "      a.download = filename;\n",
              "      div.appendChild(a);\n",
              "      a.click();\n",
              "      div.remove();\n",
              "    }\n",
              "  "
            ]
          },
          "metadata": {}
        },
        {
          "output_type": "display_data",
          "data": {
            "text/plain": [
              "<IPython.core.display.Javascript object>"
            ],
            "application/javascript": [
              "download(\"download_4b129810-cecd-46e2-a96c-8f5be769adea\", \"df_train_file-10-(per-each-color).csv\", 3912976)"
            ]
          },
          "metadata": {}
        },
        {
          "output_type": "stream",
          "name": "stdout",
          "text": [
            "df_test_file-10-(per-each-color).csv\n"
          ]
        },
        {
          "output_type": "display_data",
          "data": {
            "text/plain": [
              "<IPython.core.display.Javascript object>"
            ],
            "application/javascript": [
              "\n",
              "    async function download(id, filename, size) {\n",
              "      if (!google.colab.kernel.accessAllowed) {\n",
              "        return;\n",
              "      }\n",
              "      const div = document.createElement('div');\n",
              "      const label = document.createElement('label');\n",
              "      label.textContent = `Downloading \"${filename}\": `;\n",
              "      div.appendChild(label);\n",
              "      const progress = document.createElement('progress');\n",
              "      progress.max = size;\n",
              "      div.appendChild(progress);\n",
              "      document.body.appendChild(div);\n",
              "\n",
              "      const buffers = [];\n",
              "      let downloaded = 0;\n",
              "\n",
              "      const channel = await google.colab.kernel.comms.open(id);\n",
              "      // Send a message to notify the kernel that we're ready.\n",
              "      channel.send({})\n",
              "\n",
              "      for await (const message of channel.messages) {\n",
              "        // Send a message to notify the kernel that we're ready.\n",
              "        channel.send({})\n",
              "        if (message.buffers) {\n",
              "          for (const buffer of message.buffers) {\n",
              "            buffers.push(buffer);\n",
              "            downloaded += buffer.byteLength;\n",
              "            progress.value = downloaded;\n",
              "          }\n",
              "        }\n",
              "      }\n",
              "      const blob = new Blob(buffers, {type: 'application/binary'});\n",
              "      const a = document.createElement('a');\n",
              "      a.href = window.URL.createObjectURL(blob);\n",
              "      a.download = filename;\n",
              "      div.appendChild(a);\n",
              "      a.click();\n",
              "      div.remove();\n",
              "    }\n",
              "  "
            ]
          },
          "metadata": {}
        },
        {
          "output_type": "display_data",
          "data": {
            "text/plain": [
              "<IPython.core.display.Javascript object>"
            ],
            "application/javascript": [
              "download(\"download_397c3276-b139-4bd6-a4f8-e244b47efb72\", \"df_test_file-10-(per-each-color).csv\", 3928826)"
            ]
          },
          "metadata": {}
        }
      ]
    },
    {
      "cell_type": "code",
      "execution_count": null,
      "metadata": {
        "id": "ICKfvdr9z98t"
      },
      "outputs": [],
      "source": [
        "df_train = df_train.drop(columns=['Datum'])\n",
        "df_test = df_test.drop(columns=['Datum'])\n",
        "\n",
        "df_train.reset_index(drop=True, inplace=True)\n",
        "df_test.reset_index(drop=True, inplace=True)\n",
        "\n",
        "# #For tsfresh\n",
        "# x_train_df = df_train.drop(columns=['P_In(W)','P_Out(W)','Energie_In(Wh)','Energie_Out(Wh)','color'])\n",
        "# x_test_df = df_test.drop(columns=['P_In(W)','P_Out(W)','Energie_In(Wh)','Energie_Out(Wh)','color'])"
      ]
    },
    {
      "cell_type": "code",
      "execution_count": null,
      "metadata": {
        "id": "GChIqpzxhDtW",
        "colab": {
          "base_uri": "https://localhost:8080/"
        },
        "outputId": "1d5f153c-6a01-4479-965d-b780a59290f0"
      },
      "outputs": [
        {
          "output_type": "stream",
          "name": "stdout",
          "text": [
            "0         0\n",
            "1         0\n",
            "2         0\n",
            "3         0\n",
            "4         0\n",
            "         ..\n",
            "30259    34\n",
            "30260    34\n",
            "30261    34\n",
            "30262    34\n",
            "30263    34\n",
            "Name: fileno, Length: 30264, dtype: int64\n"
          ]
        }
      ],
      "source": [
        "print(df_train['fileno'])"
      ]
    },
    {
      "cell_type": "code",
      "source": [],
      "metadata": {
        "id": "3bEKf4SgErh0"
      },
      "execution_count": null,
      "outputs": []
    }
  ]
}